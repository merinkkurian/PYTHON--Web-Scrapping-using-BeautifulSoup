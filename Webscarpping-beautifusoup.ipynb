{
 "cells": [
  {
   "cell_type": "code",
   "execution_count": null,
   "id": "32696b72-c983-47be-a13e-8c3fe402780b",
   "metadata": {},
   "outputs": [],
   "source": [
    "#webscarping using selenium\n",
    "#Find the URL(address) of web page you want to scrape\n",
    "#Inspect the page and find the data you want to extract\n",
    "#Write the logic for extracting the data\n",
    "#Store extracted data into structured form(E.g. Pandas DataFrame)\n",
    "#Selenium: Selenium is a web testing library. It is used to automate browser activities."
   ]
  },
  {
   "cell_type": "code",
   "execution_count": 3,
   "id": "f2fb8ad3-ee60-4de9-870e-2041e258594b",
   "metadata": {},
   "outputs": [
    {
     "name": "stdout",
     "output_type": "stream",
     "text": [
      "Collecting bs4\n",
      "  Downloading bs4-0.0.1.tar.gz (1.1 kB)\n",
      "Requirement already satisfied: beautifulsoup4 in c:\\users\\merin\\anaconda\\envs\\rstudio\\lib\\site-packages (from bs4) (4.11.1)\n",
      "Requirement already satisfied: soupsieve>1.2 in c:\\users\\merin\\anaconda\\envs\\rstudio\\lib\\site-packages (from beautifulsoup4->bs4) (2.3.1)\n",
      "Building wheels for collected packages: bs4\n",
      "  Building wheel for bs4 (setup.py): started\n",
      "  Building wheel for bs4 (setup.py): finished with status 'done'\n",
      "  Created wheel for bs4: filename=bs4-0.0.1-py3-none-any.whl size=1272 sha256=ab75a5b625fcdae9450277977d1bf3f5f8ed432e98ca0081fe88cb6b526b95b1\n",
      "  Stored in directory: c:\\users\\merin\\appdata\\local\\pip\\cache\\wheels\\0a\\9e\\ba\\20e5bbc1afef3a491f0b3bb74d508f99403aabe76eda2167ca\n",
      "Successfully built bs4\n",
      "Installing collected packages: bs4\n",
      "Successfully installed bs4-0.0.1\n"
     ]
    }
   ],
   "source": [
    "!pip install bs4"
   ]
  },
  {
   "cell_type": "code",
   "execution_count": 4,
   "id": "33ccf277-71f9-4f2d-b491-fc23010e40e3",
   "metadata": {},
   "outputs": [],
   "source": [
    "from selenium import webdriver\n",
    "from bs4 import BeautifulSoup\n",
    "import pandas as pd"
   ]
  },
  {
   "cell_type": "code",
   "execution_count": 6,
   "id": "b1548de2-0dfd-4660-a4be-dfe400852773",
   "metadata": {},
   "outputs": [],
   "source": [
    "from bs4 import BeautifulSoup\n",
    "import requests\n",
    "import time\n",
    "import datetime\n",
    "\n",
    "import smtplib #sending email"
   ]
  },
  {
   "cell_type": "code",
   "execution_count": 29,
   "id": "030a531b-2a4b-44ec-9443-204874af78c2",
   "metadata": {},
   "outputs": [],
   "source": [
    "#tell bs where to get data\n",
    "#connect to website\n",
    "URL = 'https://www.flipkart.com/search?q=Laptops&otracker=search&otracker1=search&marketplace=FLIPKART&as-show=off&as=off&as-pos=1&as-type=HISTORY&as-backfill=on%27'\n"
   ]
  },
  {
   "cell_type": "code",
   "execution_count": 30,
   "id": "b0b37281-8fb9-4b54-9890-7f6c0e78b147",
   "metadata": {},
   "outputs": [],
   "source": [
    "headers = {\"User-Agent\": \"Mozilla/5.0 (Windows NT 10.0; Win64; x64) AppleWebKit/537.36 (KHTML, like Gecko) Chrome/101.0.4951.54 Safari/537.36\", \"Accept-Encoding\":\"gzip, deflate\", \"Accept\":\"text/html,application/xhtml+xml,application/xml;q=0.9,*/*;q=0.8\", \"DNT\":\"1\",\"Connection\":\"close\", \"Upgrade-Insecure-Requests\":\"1\"}\n",
    "\n",
    "\n"
   ]
  },
  {
   "cell_type": "code",
   "execution_count": 31,
   "id": "35797900-0365-4903-931d-8de9dad0563a",
   "metadata": {},
   "outputs": [],
   "source": [
    "page = requests.get(URL, headers=headers)\n",
    "\n",
    "soup1 = BeautifulSoup(page.content, \"html.parser\")\n",
    "\n",
    "soup2 = BeautifulSoup(soup1.prettify(), \"html.parser\")\n"
   ]
  },
  {
   "cell_type": "code",
   "execution_count": 17,
   "id": "dca8a3eb-b35a-4cb1-8679-8b7e09a098dd",
   "metadata": {},
   "outputs": [],
   "source": [
    "#print(soup1)"
   ]
  },
  {
   "cell_type": "code",
   "execution_count": 32,
   "id": "ab21cfae-9dee-4bc9-a1c2-1e4214856055",
   "metadata": {},
   "outputs": [
    {
     "ename": "AttributeError",
     "evalue": "'NoneType' object has no attribute 'get_text'",
     "output_type": "error",
     "traceback": [
      "\u001b[1;31m---------------------------------------------------------------------------\u001b[0m",
      "\u001b[1;31mAttributeError\u001b[0m                            Traceback (most recent call last)",
      "\u001b[1;32m~\\AppData\\Local\\Temp\\ipykernel_12592\\1642556477.py\u001b[0m in \u001b[0;36m<module>\u001b[1;34m\u001b[0m\n\u001b[0;32m      1\u001b[0m \u001b[0msoup2\u001b[0m \u001b[1;33m=\u001b[0m \u001b[0mBeautifulSoup\u001b[0m\u001b[1;33m(\u001b[0m\u001b[0msoup1\u001b[0m\u001b[1;33m.\u001b[0m\u001b[0mprettify\u001b[0m\u001b[1;33m(\u001b[0m\u001b[1;33m)\u001b[0m\u001b[1;33m,\u001b[0m \u001b[1;34m\"html.parser\"\u001b[0m\u001b[1;33m)\u001b[0m\u001b[1;33m\u001b[0m\u001b[1;33m\u001b[0m\u001b[0m\n\u001b[0;32m      2\u001b[0m \u001b[1;33m\u001b[0m\u001b[0m\n\u001b[1;32m----> 3\u001b[1;33m \u001b[0mtitle\u001b[0m \u001b[1;33m=\u001b[0m \u001b[0msoup2\u001b[0m\u001b[1;33m.\u001b[0m\u001b[0mfind\u001b[0m\u001b[1;33m(\u001b[0m\u001b[0mid\u001b[0m\u001b[1;33m=\u001b[0m\u001b[1;34m'productTitle'\u001b[0m\u001b[1;33m)\u001b[0m\u001b[1;33m.\u001b[0m\u001b[0mget_text\u001b[0m\u001b[1;33m(\u001b[0m\u001b[1;33m)\u001b[0m \u001b[1;31m#get title\u001b[0m\u001b[1;33m\u001b[0m\u001b[1;33m\u001b[0m\u001b[0m\n\u001b[0m\u001b[0;32m      4\u001b[0m \u001b[0mprint\u001b[0m\u001b[1;33m(\u001b[0m\u001b[0mtitle\u001b[0m\u001b[1;33m)\u001b[0m\u001b[1;33m\u001b[0m\u001b[1;33m\u001b[0m\u001b[0m\n",
      "\u001b[1;31mAttributeError\u001b[0m: 'NoneType' object has no attribute 'get_text'"
     ]
    }
   ],
   "source": [
    "soup2 = BeautifulSoup(soup1.prettify(), \"html.parser\")\n",
    "\n",
    "title = soup2.find(id='productTitle').get_text() #get title\n",
    "print(title)"
   ]
  },
  {
   "cell_type": "code",
   "execution_count": 35,
   "id": "168ee9a2-be54-42a1-b62e-2162a4c44f7e",
   "metadata": {},
   "outputs": [],
   "source": [
    "#price = soup2.find(id='priceblock_ourprice').get_text()\n",
    "products=[] #List to store name of the product\n",
    "prices=[] #List to store price of the product\n",
    "for a in soup2.findAll(attrs={'class':'_1fQZEK'}):\n",
    "    name=a.find('div', attrs={'class':'_4rR01T'})\n",
    "    price=a.find('div', attrs={'class':'_30jeq3 _1_WHN1'})\n",
    "    products.append(name.text)\n",
    "    prices.append(price.text)"
   ]
  },
  {
   "cell_type": "code",
   "execution_count": 37,
   "id": "3242b956-67c9-47cb-bb16-e69088cb43b4",
   "metadata": {},
   "outputs": [],
   "source": [
    "df = pd.DataFrame({'Product Name':products,'Price':prices})\n",
    "df.to_csv('products.csv', index=False, encoding='utf-8')"
   ]
  },
  {
   "cell_type": "code",
   "execution_count": 38,
   "id": "bf5be450-c4e5-4158-ace1-8f24d2bd3695",
   "metadata": {},
   "outputs": [
    {
     "name": "stdout",
     "output_type": "stream",
     "text": [
      "                                         Product Name  \\\n",
      "0   \\n               MSI Stealth 15M Core i7 11th ...   \n",
      "1   \\n               ASUS ASUS TUF Gaming Core i5 ...   \n",
      "2   \\n               Lenovo IdeaPad 3 Core i3 10th...   \n",
      "3   \\n               HP Core i3 11th Gen - (8 GB/5...   \n",
      "4   \\n               ASUS Core i3 11th Gen - (8 GB...   \n",
      "5   \\n               ASUS VivoBook 15 (2022) Core ...   \n",
      "6   \\n               Infinix INBook X1 Core i3 10t...   \n",
      "7   \\n               Lenovo IdeaPad Gaming 3 Core ...   \n",
      "8   \\n               HP Core i3 11th Gen - (8 GB/2...   \n",
      "9   \\n               Lenovo IdeaPad 3 Core i3 11th...   \n",
      "10  \\n               ASUS TUF Gaming F15 Core i5 1...   \n",
      "11  \\n               MSI Pulse GL66 Core i7 11th G...   \n",
      "12  \\n               HP Ryzen 3 Dual Core 3250U - ...   \n",
      "13  \\n               MSI GF65 Thin Hexa Core i5 10...   \n",
      "14  \\n               ASUS VivoBook 15 (2022) Core ...   \n",
      "15  \\n               Lenovo Legion 5 Core i7 11th ...   \n",
      "16  \\n               acer Aspire 3 Dual Core 3020e...   \n",
      "17  \\n               ASUS VivoBook 15 (2022) Core ...   \n",
      "18  \\n               Lenovo Core i3 10th Gen - (8 ...   \n",
      "19  \\n               ASUS TUF Gaming F15 (2021) Co...   \n",
      "20  \\n               acer Aspire 3 Core i3 11th Ge...   \n",
      "21  \\n               ASUS VivoBook 15 (2021) Core ...   \n",
      "22  \\n               HP Ryzen 5 Hexa Core 5500U - ...   \n",
      "23  \\n               ASUS TUF Dash F15 (2021) Core...   \n",
      "\n",
      "                                             Price  \n",
      "0   \\n                 ₹1,28,990\\n                  \n",
      "1     \\n                 ₹75,990\\n                  \n",
      "2     \\n                 ₹34,990\\n                  \n",
      "3     \\n                 ₹41,990\\n                  \n",
      "4     \\n                 ₹37,990\\n                  \n",
      "5     \\n                 ₹34,990\\n                  \n",
      "6     \\n                 ₹29,990\\n                  \n",
      "7     \\n                 ₹65,990\\n                  \n",
      "8     \\n                 ₹36,990\\n                  \n",
      "9     \\n                 ₹41,990\\n                  \n",
      "10    \\n                 ₹64,990\\n                  \n",
      "11  \\n                 ₹1,14,990\\n                  \n",
      "12    \\n                 ₹34,990\\n                  \n",
      "13    \\n                 ₹87,990\\n                  \n",
      "14    \\n                 ₹50,990\\n                  \n",
      "15  \\n                 ₹1,17,990\\n                  \n",
      "16    \\n                 ₹24,990\\n                  \n",
      "17    \\n                 ₹38,990\\n                  \n",
      "18    \\n                 ₹38,990\\n                  \n",
      "19    \\n                 ₹89,990\\n                  \n",
      "20    \\n                 ₹38,990\\n                  \n",
      "21    \\n                 ₹40,990\\n                  \n",
      "22    \\n                 ₹47,990\\n                  \n",
      "23    \\n                 ₹95,990\\n                  \n"
     ]
    }
   ],
   "source": [
    "print (df)"
   ]
  }
 ],
 "metadata": {
  "kernelspec": {
   "display_name": "Python 3 (ipykernel)",
   "language": "python",
   "name": "python3"
  },
  "language_info": {
   "codemirror_mode": {
    "name": "ipython",
    "version": 3
   },
   "file_extension": ".py",
   "mimetype": "text/x-python",
   "name": "python",
   "nbconvert_exporter": "python",
   "pygments_lexer": "ipython3",
   "version": "3.7.1"
  }
 },
 "nbformat": 4,
 "nbformat_minor": 5
}
